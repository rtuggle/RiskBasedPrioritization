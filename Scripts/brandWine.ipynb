{
 "cells": [
  {
   "cell_type": "code",
   "execution_count": 20,
   "metadata": {
    "collapsed": true
   },
   "outputs": [],
   "source": [
    "import pandas as pd\n",
    "import numpy as np"
   ]
  },
  {
   "cell_type": "code",
   "execution_count": 24,
   "metadata": {
    "collapsed": true
   },
   "outputs": [],
   "source": [
    "whitedata = np.genfromtxt('winequality-white.csv',delimiter=',',names=True)\n",
    "df = pd.DataFrame(whitedata)"
   ]
  },
  {
   "cell_type": "code",
   "execution_count": 29,
   "metadata": {
    "collapsed": false
   },
   "outputs": [],
   "source": [
    "season = ['winter ','spring ','summer ','fall ','gloaming ','equinox ']\n",
    "animal = ['stag ', 'frog ', 'honeybee ','moon ','seaside ','penguin ']\n",
    "adjective = ['golden ','mossy ','sparkling ','beguiling ','hidden ','oaky ']\n",
    "verb = ['leaping ','enchanted ','soaring ','diving ','splashed ','dazed ']\n",
    "varietal = ['chardonnay ','sauvignon blanc ','pinot gris ','semillon ','moscato ','reisling ']\n",
    "bag = [season,animal,adjective]"
   ]
  },
  {
   "cell_type": "code",
   "execution_count": 30,
   "metadata": {
    "collapsed": false
   },
   "outputs": [],
   "source": [
    "brand = list()\n",
    "for i in range(len(df.index)):\n",
    "    order = np.random.choice(3, size = 2, replace=False)\n",
    "    grab = np.random.choice(6, size = 5, replace=True)\n",
    "    brand.append(bag[order[0]][grab[0]] + bag[order[1]][grab[1]] + verb[grab[2]] + varietal[grab[4]])"
   ]
  },
  {
   "cell_type": "code",
   "execution_count": 31,
   "metadata": {
    "collapsed": false
   },
   "outputs": [],
   "source": [
    "pd.DataFrame(brand).to_csv('wine-brand.csv', index = False)"
   ]
  },
  {
   "cell_type": "code",
   "execution_count": null,
   "metadata": {
    "collapsed": true
   },
   "outputs": [],
   "source": [
    "+ bag[order[2]][grab[3]]"
   ]
  }
 ],
 "metadata": {
  "kernelspec": {
   "display_name": "Python 2",
   "language": "python",
   "name": "python2"
  },
  "language_info": {
   "codemirror_mode": {
    "name": "ipython",
    "version": 2
   },
   "file_extension": ".py",
   "mimetype": "text/x-python",
   "name": "python",
   "nbconvert_exporter": "python",
   "pygments_lexer": "ipython2",
   "version": "2.7.11"
  }
 },
 "nbformat": 4,
 "nbformat_minor": 0
}
